{
 "cells": [
  {
   "cell_type": "markdown",
   "metadata": {},
   "source": [
    "# Crawling Tweets using an essential account (API v2): \n",
    "This short tutorial introduces you to a workaround to use tweepy Client to access tweets with your essential account. First make sure tweepy is installed and upgraded to the latest version. "
   ]
  },
  {
   "cell_type": "code",
   "execution_count": null,
   "metadata": {
    "colab": {
     "base_uri": "https://localhost:8080/",
     "height": 187
    },
    "colab_type": "code",
    "id": "CzvCWa4yWfHn",
    "outputId": "96426017-df7e-48c2-a0ae-c14c85637141"
   },
   "outputs": [],
   "source": [
    " !pip install tweepy\n",
    "# or pip install tweepy --upgrade\n"
   ]
  },
  {
   "cell_type": "code",
   "execution_count": null,
   "metadata": {},
   "outputs": [],
   "source": [
    "#create tweepy client using only bearer code (from your developer dashboard)\n",
    "client = tweepy.Client(bearer_token='Replace_with_your_bearer_code')"
   ]
  },
  {
   "cell_type": "markdown",
   "metadata": {},
   "source": [
    "# Searching for tweets: \n",
    "## By keyword:\n",
    "You can use now this client to search for specific tweets. Let's search for data science term in recent tweets."
   ]
  },
  {
   "cell_type": "code",
   "execution_count": null,
   "metadata": {},
   "outputs": [],
   "source": [
    "# Replace with your own search query\n",
    "query = 'data science'\n",
    "\n",
    "tweets = client.search_recent_tweets(query=query)\n",
    "\n",
    "for tweet in tweets.data:\n",
    "    print(tweet.text)\n",
    "    print (\"=====\")"
   ]
  },
  {
   "cell_type": "markdown",
   "metadata": {},
   "source": [
    "Note the following: \n",
    "- The tweets are only from the last 7 days\n",
    "- By default, in your response, you will only get the Tweet ID and Tweet text for each Tweet. If you need additional Tweet fields such as context_annotations, created_at (the time the tweet was created) etc., you can specifiy those fields using the tweet_fields parameter, as shown in the example below. Learn more about available fields here https://developer.twitter.com/en/docs/twitter-api/fields. \n",
    "\n",
    "- By default, a request returns 10 Tweets. If you want more than 10 Tweets per request, you can specify that using the max_results parameter. The maximum Tweets per request is 100.\n",
    "\n",
    "### More tweets with more information: \n",
    "Let's specify more fields in tweet_fields parameter"
   ]
  },
  {
   "cell_type": "code",
   "execution_count": null,
   "metadata": {},
   "outputs": [],
   "source": [
    "query= 'data science'\n",
    "tweets = client.search_recent_tweets(query=query, tweet_fields=['context_annotations','created_at','public_metrics'], max_results=100)\n",
    "\n",
    "for tweet in tweets.data:\n",
    "    print(tweet.created_at, tweet.text)\n",
    "    print(\"Metrics\",tweet.public_metrics)\n",
    "    if len(tweet.context_annotations) > 0:\n",
    "        print(tweet.context_annotations)\n",
    "    print (\"=======\")"
   ]
  },
  {
   "cell_type": "markdown",
   "metadata": {},
   "source": [
    "## Search by user: "
   ]
  },
  {
   "cell_type": "code",
   "execution_count": null,
   "metadata": {},
   "outputs": [],
   "source": [
    "# Replace with user twitter handler\n",
    "query = 'from: elonmusk'\n",
    "\n",
    "tweets = client.search_recent_tweets(query=query)\n",
    "\n",
    "for tweet in tweets.data:\n",
    "    print(tweet.text)\n",
    "    print (\"=====\")"
   ]
  },
  {
   "cell_type": "markdown",
   "metadata": {},
   "source": [
    "## Retrieve user ID and screen name"
   ]
  },
  {
   "cell_type": "code",
   "execution_count": null,
   "metadata": {},
   "outputs": [],
   "source": [
    "# the screen name of the user\n",
    "screen_name = \"elonmask\"\n",
    "# fetching the user\n",
    "user= client.get_user(username= screen_name)\n",
    "user.data.id"
   ]
  },
  {
   "cell_type": "markdown",
   "metadata": {},
   "source": [
    "## Or the other way around"
   ]
  },
  {
   "cell_type": "code",
   "execution_count": null,
   "metadata": {},
   "outputs": [],
   "source": [
    "# the screen name of the user\n",
    "user_ID = \"2244994945\"\n",
    "# fetching the user\n",
    "user= client.get_user(id= user_ID)\n",
    "user.data.name"
   ]
  },
  {
   "cell_type": "code",
   "execution_count": null,
   "metadata": {},
   "outputs": [],
   "source": [
    "user_id = '4829966860'\n",
    "\n",
    "tweets = client.get_users_mentions(id=user_id, tweet_fields=['context_annotations','created_at','geo'])\n",
    "\n",
    "for tweet in tweets.data:\n",
    "    print(tweet)"
   ]
  },
  {
   "cell_type": "markdown",
   "metadata": {},
   "source": [
    "## More than 100 tweets: "
   ]
  },
  {
   "cell_type": "code",
   "execution_count": null,
   "metadata": {},
   "outputs": [],
   "source": [
    "# Replace with your own search query\n",
    "query = 'omicron -is:retweet' #exclude retweets\n",
    "tweets= []\n",
    "\n",
    "# Replace the limit=1000 with the maximum number of Tweets you want\n",
    "for tweet in tweepy.Paginator(client.search_recent_tweets, query=query,\n",
    "                              tweet_fields=['context_annotations', 'created_at','public_metrics'], max_results=100).flatten(limit=1000):\n",
    "    tweets.append(tweet)"
   ]
  },
  {
   "cell_type": "markdown",
   "metadata": {},
   "source": [
    "## Saving as a dataframe: "
   ]
  },
  {
   "cell_type": "code",
   "execution_count": null,
   "metadata": {},
   "outputs": [],
   "source": [
    "import pandas as pd\n",
    "tweet_df = pd.DataFrame()\n",
    "tweet_df['text']= [tweet.text for tweet in tweets]\n",
    "tweet_df['created_at']= [tweet.created_at for tweet in tweets]\n",
    "tweet_df['ret_count']= [tweet.public_metrics['retweet_count'] for tweet in tweets]\n",
    "tweet_df['like_count']= [tweet.public_metrics['like_count']for tweet in tweets]\n",
    "tweet_df['source']= [tweet.source for tweet in tweets]\n",
    "\n",
    "\n",
    "# tweet_df = pd.DataFrame(data=users_locs, \n",
    "#                     columns=['user', \"location\"])\n",
    "tweet_df\n"
   ]
  },
  {
   "cell_type": "markdown",
   "metadata": {},
   "source": [
    "## Searching for geo-tagged Tweets\n"
   ]
  },
  {
   "cell_type": "code",
   "execution_count": null,
   "metadata": {},
   "outputs": [],
   "source": [
    "# Replace with your own search query\n",
    "query = 'covid -is:retweet place_country:US'\n",
    "\n",
    "tweets = client.search_all_tweets(query=query, tweet_fields=['context_annotations', 'created_at', 'geo'],\n",
    "                                  place_fields=['place_type', 'geo'], expansions='geo.place_id', max_results=100)\n",
    "\n",
    "# Get list of places from includes object\n",
    "places = {p[\"id\"]: p for p in tweets.includes['places']}\n",
    "\n",
    "for tweet in tweets.data:\n",
    "    print(tweet.text)\n",
    "    if places[tweet.geo['place_id']]:\n",
    "        place = places[tweet.geo['place_id']]\n",
    "        print(place.full_name)\n",
    "    print ('=======')"
   ]
  },
  {
   "cell_type": "markdown",
   "metadata": {},
   "source": [
    "--------------------"
   ]
  },
  {
   "cell_type": "markdown",
   "metadata": {},
   "source": [
    "## Important resources: \n",
    "- More information on Tweepy API v2 can be found here https://docs.tweepy.org/en/stable/client.html#\n",
    "- A comprehensive guide for using the Twitter API v2 with Tweepy in Python https://dev.to/twitterdev/a-comprehensive-guide-for-using-the-twitter-api-v2-using-tweepy-in-python-15d9\n",
    "- Alternatives to TweePy https://developer.twitter.com/en/docs/twitter-api/tools-and-libraries/v2\n",
    "\n",
    "    "
   ]
  }
 ],
 "metadata": {
  "kernelspec": {
   "display_name": "Python 3",
   "language": "python",
   "name": "python3"
  },
  "language_info": {
   "codemirror_mode": {
    "name": "ipython",
    "version": 3
   },
   "file_extension": ".py",
   "mimetype": "text/x-python",
   "name": "python",
   "nbconvert_exporter": "python",
   "pygments_lexer": "ipython3",
   "version": "3.9.0"
  }
 },
 "nbformat": 4,
 "nbformat_minor": 4
}
